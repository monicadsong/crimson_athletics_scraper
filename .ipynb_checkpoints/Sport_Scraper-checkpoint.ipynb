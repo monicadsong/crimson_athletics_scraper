{
 "cells": [
  {
   "cell_type": "code",
   "execution_count": 1,
   "metadata": {
    "collapsed": true
   },
   "outputs": [],
   "source": [
    "import numpy as np\n",
    "import pandas as pd\n",
    "pd.set_option('display.width', 500)\n",
    "pd.set_option('display.max_columns', 100)\n",
    "pd.set_option('display.notebook_repr_html', True)\n",
    "from bs4 import BeautifulSoup\n",
    "import requests"
   ]
  },
  {
   "cell_type": "code",
   "execution_count": 4,
   "metadata": {},
   "outputs": [
    {
     "data": {
      "text/plain": [
       "['http://www.gocrimson.com//sports/bsb/2017-18/roster',\n",
       " 'http://www.gocrimson.com//sports/mbkb/2017-18/roster',\n",
       " 'http://www.gocrimson.com//sports/mcrew-hw/2017-18/roster',\n",
       " 'http://www.gocrimson.com//sports/mcrew-lw/2017-18/roster',\n",
       " 'http://www.gocrimson.com//sports/xc/2017-18/roster-include',\n",
       " 'http://www.gocrimson.com//sports/mfencing/2017-18/roster',\n",
       " 'http://www.gocrimson.com//sports/fball/2017-18/roster',\n",
       " 'http://www.gocrimson.com//sports/mgolf/2017-18/roster',\n",
       " 'http://www.gocrimson.com//sports/mice/2017-18/roster',\n",
       " 'http://www.gocrimson.com//sports/mlax/2017-18/roster',\n",
       " 'http://www.gocrimson.com//sports/sailing/2017-18/roster',\n",
       " 'http://www.gocrimson.com//sports/skiing/2017-18/roster',\n",
       " 'http://www.gocrimson.com//sports/msoc/2017-18/roster',\n",
       " 'http://www.gocrimson.com//sports/msquash/2017-18/roster',\n",
       " 'http://www.gocrimson.com//sports/mswimdive/2017-18/roster',\n",
       " 'http://www.gocrimson.com//sports/mten/2017-18/roster',\n",
       " 'http://www.gocrimson.com//sports/track/2017-18/roster-include',\n",
       " 'http://www.gocrimson.com//sports/mvball/2017-18/roster',\n",
       " 'http://www.gocrimson.com//sports/mwaterpolo/2017-18/roster',\n",
       " 'http://www.gocrimson.com//sports/wrest/2017-18/roster',\n",
       " 'http://www.gocrimson.com//sports/wbkb/2017-18/roster',\n",
       " 'http://www.gocrimson.com//sports/wcrew-hw/2017-18/roster',\n",
       " 'http://www.gocrimson.com//sports/wcrew-lw/2017-18/roster',\n",
       " 'http://www.gocrimson.com//sports/xc/2017-18/roster-include',\n",
       " 'http://www.gocrimson.com//sports/wfencing/2017-18/roster',\n",
       " 'http://www.gocrimson.com//sports/fh/2017-18/roster',\n",
       " 'http://www.gocrimson.com//sports/wgolf/2017-18/roster',\n",
       " 'http://www.gocrimson.com//sports/wice/2017-18/roster',\n",
       " 'http://www.gocrimson.com//sports/wlax/2017-18/roster',\n",
       " 'http://www.gocrimson.com//sports/wrugby/2017-18/roster',\n",
       " 'http://www.gocrimson.com//sports/sailing/2017-18/roster',\n",
       " 'http://www.gocrimson.com//sports/skiing/2017-18/roster',\n",
       " 'http://www.gocrimson.com//sports/wsoc/2017-18/roster',\n",
       " 'http://www.gocrimson.com//sports/sball/2017-18/roster',\n",
       " 'http://www.gocrimson.com//sports/wsquash/2017-18/roster',\n",
       " 'http://www.gocrimson.com//sports/wswimdive/2017-18/roster',\n",
       " 'http://www.gocrimson.com//sports/wten/2017-18/roster',\n",
       " 'http://www.gocrimson.com//sports/track/2017-18/roster-include',\n",
       " 'http://www.gocrimson.com//sports/wvball/2017-18/roster',\n",
       " 'http://www.gocrimson.com//sports/wwaterpolo/2017-18/roster',\n",
       " 'http://www.gocrimson.com//sports/mcrew-lw/2017-18/roster']"
      ]
     },
     "execution_count": 4,
     "metadata": {},
     "output_type": "execute_result"
    }
   ],
   "source": [
    "# get all roster links\n",
    "req = requests.get('http://www.gocrimson.com//sports/mcrew-lw/2017-18/roster')\n",
    "page = req.text\n",
    "soup = BeautifulSoup(page, 'html.parser')\n",
    "roster_pages = []\n",
    "for link in soup.findAll('a', href=True, text='Roster'):\n",
    "    roster_pages.append('http://www.gocrimson.com/' + link['href'])\n",
    "roster_pages"
   ]
  },
  {
   "cell_type": "code",
   "execution_count": 5,
   "metadata": {
    "collapsed": true
   },
   "outputs": [],
   "source": [
    "def get_house(link):\n",
    "    req = requests.get(link)\n",
    "    page = req.text\n",
    "    soup = BeautifulSoup(page, 'html.parser')\n",
    "    bio = soup.find_all(\"table\")[0]\n",
    "    tags = bio.find_all('td')\n",
    "    for i,x in enumerate(tags):\n",
    "        if x.text == 'House Affiliation: ':\n",
    "            return (tags[i + 1].text)\n",
    "            "
   ]
  },
  {
   "cell_type": "code",
   "execution_count": 6,
   "metadata": {
    "collapsed": true
   },
   "outputs": [],
   "source": [
    "def get_athlete_info(link):\n",
    "    req = requests.get(link)\n",
    "    page = req.text\n",
    "    soup = BeautifulSoup(page, 'html.parser')\n",
    "    #isolate roster table\n",
    "    roster = soup.find_all(\"table\")[0]\n",
    "    rows = [row for row in roster.find_all(\"tr\")]\n",
    "    \n",
    "    all_athletes = []\n",
    "    for tr in rows[1:]:\n",
    "        links = []\n",
    "        for link in tr.find_all('a'):\n",
    "            links.append(link.get('href'))\n",
    "        info = {}\n",
    "        name = tr.findAll('td', {\"data-title\":\"Name\"})\n",
    "        year = tr.findAll('td', {\"data-title\":\"Yr.\"})\n",
    "        info['name'] = name[0].text.strip()\n",
    "        info['year'] = year[0].text.strip()\n",
    "        info['link'] = 'http://www.gocrimson.com' + links[0]\n",
    "        all_athletes.append(info)\n",
    "    for x in all_athletes:\n",
    "        x['house'] = get_house(x['link'])\n",
    "    return all_athletes   "
   ]
  },
  {
   "cell_type": "code",
   "execution_count": 9,
   "metadata": {
    "collapsed": true
   },
   "outputs": [],
   "source": [
    "import csv\n",
    "def write(data, name):\n",
    "    f = open(\"{}.csv\".format(name), \"w\")\n",
    "    writer = csv.DictWriter(\n",
    "        f, fieldnames=[\"name\", 'year', 'house', \"link\"])\n",
    "    writer.writeheader()\n",
    "    writer.writerows(data)\n",
    "    f.close()\n"
   ]
  },
  {
   "cell_type": "code",
   "execution_count": 12,
   "metadata": {
    "collapsed": true
   },
   "outputs": [],
   "source": [
    "def create_csv(roster_link):\n",
    "    sport = roster_link[33:]\n",
    "    name = sport.partition(\"/\")[0]\n",
    "    print ('getting {} data'.format(name))\n",
    "    data = get_athlete_info(roster_link)\n",
    "    write(data, name)\n",
    "    "
   ]
  },
  {
   "cell_type": "code",
   "execution_count": 14,
   "metadata": {},
   "outputs": [
    {
     "name": "stdout",
     "output_type": "stream",
     "text": [
      "getting bsb data\n",
      "getting mbkb data\n",
      "getting mcrew-hw data\n",
      "getting mcrew-lw data\n",
      "getting xc data\n",
      "getting mfencing data\n",
      "getting fball data\n",
      "getting mgolf data\n",
      "getting mice data\n",
      "getting mlax data\n",
      "getting sailing data\n",
      "getting skiing data\n",
      "getting msoc data\n",
      "getting msquash data\n",
      "getting mswimdive data\n",
      "getting mten data\n",
      "getting track data\n",
      "getting mvball data\n",
      "getting mwaterpolo data\n",
      "getting wrest data\n",
      "getting wbkb data\n",
      "getting wcrew-hw data\n",
      "getting wcrew-lw data\n",
      "getting xc data\n",
      "getting wfencing data\n",
      "getting fh data\n",
      "getting wgolf data\n",
      "getting wice data\n",
      "getting wlax data\n",
      "getting wrugby data\n",
      "getting sailing data\n",
      "getting skiing data\n",
      "getting wsoc data\n",
      "getting sball data\n",
      "getting wsquash data\n",
      "getting wswimdive data\n",
      "getting wten data\n",
      "getting track data\n",
      "getting wvball data\n",
      "getting wwaterpolo data\n",
      "getting mcrew-lw data\n"
     ]
    }
   ],
   "source": [
    "for x in roster_pages:\n",
    "    create_csv(x)"
   ]
  },
  {
   "cell_type": "code",
   "execution_count": null,
   "metadata": {
    "collapsed": true
   },
   "outputs": [],
   "source": []
  }
 ],
 "metadata": {
  "kernelspec": {
   "display_name": "Python 3",
   "language": "python",
   "name": "python3"
  },
  "language_info": {
   "codemirror_mode": {
    "name": "ipython",
    "version": 3
   },
   "file_extension": ".py",
   "mimetype": "text/x-python",
   "name": "python",
   "nbconvert_exporter": "python",
   "pygments_lexer": "ipython3",
   "version": "3.6.1"
  }
 },
 "nbformat": 4,
 "nbformat_minor": 2
}
